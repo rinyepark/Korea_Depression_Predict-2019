{
 "cells": [
  {
   "cell_type": "markdown",
   "metadata": {},
   "source": [
    "## import python module"
   ]
  },
  {
   "cell_type": "code",
   "execution_count": 197,
   "metadata": {},
   "outputs": [],
   "source": [
    "import pandas as pd\n",
    "import ast\n",
    "import numpy as np"
   ]
  },
  {
   "cell_type": "markdown",
   "metadata": {},
   "source": [
    "## read csv"
   ]
  },
  {
   "cell_type": "code",
   "execution_count": 198,
   "metadata": {},
   "outputs": [],
   "source": [
    "year_lst = [13,14,15,16,17]"
   ]
  },
  {
   "cell_type": "code",
   "execution_count": 199,
   "metadata": {},
   "outputs": [],
   "source": [
    "data_lst = []\n",
    "\n",
    "for i in year_lst:\n",
    "    tmp = pd.read_csv('../tocsv/hn20{:02d}.csv'.format(i))\n",
    "    data_lst.append(tmp)"
   ]
  },
  {
   "cell_type": "code",
   "execution_count": 200,
   "metadata": {},
   "outputs": [],
   "source": [
    "data_lst_save = data_lst[:]"
   ]
  },
  {
   "cell_type": "code",
   "execution_count": 201,
   "metadata": {},
   "outputs": [],
   "source": [
    "data_lst = data_lst_save[:]"
   ]
  },
  {
   "cell_type": "markdown",
   "metadata": {},
   "source": [
    "# CASE 0: 6,7기 통합 전처리"
   ]
  },
  {
   "cell_type": "markdown",
   "metadata": {},
   "source": [
    "1-1. region 처리\n",
    " * 7기 기준으로 지역별 숫자 맞춰주기\n",
    " * float -> int -> str"
   ]
  },
  {
   "cell_type": "code",
   "execution_count": 202,
   "metadata": {},
   "outputs": [],
   "source": [
    "for i in range(3):\n",
    "    data_lst[i]['region'] = np.where(data_lst[i]['region'] >= 8.0, data_lst[i]['region'] + 1, data_lst[i]['region'])\n",
    "    data_lst[i]['region'] = data_lst[i]['region'].astype(int).astype(str)"
   ]
  },
  {
   "cell_type": "markdown",
   "metadata": {},
   "source": [
    "1-2. 기본변수 내 7기와 동일하지 않은 의미를 가진/혹은 존재하지 않는 가중치 삭제\n",
    "* column_1_6y: 6,7기 모두 존재하지만 동일하지 않은 의미를 지닌 가중치 + kstrata\n",
    "* column_1_6n: 6기에 존재하지 않는 가중치"
   ]
  },
  {
   "cell_type": "code",
   "execution_count": 203,
   "metadata": {},
   "outputs": [],
   "source": [
    "column_1_6y = ['wt_ex1','wt_ex1nt','wt_ex1hm','wt_ex1pf','wt_ex1pfnt','wt_ex1hmnt','kstrata']\n",
    "column_1_6n = ['wt_nn','wt_ntr','wt_nnnt','wt_tot1','wt_tot1nt']"
   ]
  },
  {
   "cell_type": "code",
   "execution_count": 204,
   "metadata": {},
   "outputs": [
    {
     "name": "stdout",
     "output_type": "stream",
     "text": [
      "0\n",
      "1\n",
      "2\n",
      "3\n",
      "4\n"
     ]
    }
   ],
   "source": [
    "for i in range(len(data_lst)):\n",
    "    print(i)\n",
    "    \n",
    "    for k in range(len(column_1_6y)):\n",
    "        try:\n",
    "            data_lst[i].drop(column_1_6y[k], axis=1, inplace=True)\n",
    "        except:\n",
    "            continue\n",
    "    \n",
    "    if i >= 3:\n",
    "        for m in range(len(column_1_6n)):\n",
    "            try:\n",
    "                data_lst[i].drop(column_1_6n[m], axis=1, inplace=True)\n",
    "            except:\n",
    "                continue"
   ]
  },
  {
   "cell_type": "markdown",
   "metadata": {},
   "source": [
    "1-3. 6,7기 내 모든 가중치 삭제(wt가 포함된 열 명)"
   ]
  },
  {
   "cell_type": "code",
   "execution_count": 205,
   "metadata": {},
   "outputs": [],
   "source": [
    "for i in range(len(data_lst)):\n",
    "    ctmp = list(data_lst[i].columns)\n",
    "    col = []\n",
    "    for k in range(len(ctmp)):\n",
    "        if 'wt' in ctmp[k]:\n",
    "            col.append(ctmp[k])\n",
    "    data_lst[i].drop(col, axis=1, inplace=True)"
   ]
  },
  {
   "cell_type": "markdown",
   "metadata": {},
   "source": [
    "1-4. ID_F, ID_M 대문자로 맞춰주기"
   ]
  },
  {
   "cell_type": "code",
   "execution_count": 242,
   "metadata": {},
   "outputs": [],
   "source": [
    "for i in range(1,5):\n",
    "    data_lst[i].rename(columns={'id_f': 'ID_F', 'id_m': 'ID_M'}, inplace=True)"
   ]
  },
  {
   "cell_type": "markdown",
   "metadata": {},
   "source": [
    "2-1. 골다공증  \n",
    "* DM4_dg, DM4_ag, DM4_pr, DM4_pt 제거(2013~2014는 존재하지 않음)"
   ]
  },
  {
   "cell_type": "code",
   "execution_count": 206,
   "metadata": {},
   "outputs": [],
   "source": [
    "dm4_column = ['DM4_dg','DM4_ag','DM4_pr','DM4_pt']"
   ]
  },
  {
   "cell_type": "code",
   "execution_count": 207,
   "metadata": {},
   "outputs": [],
   "source": [
    "for i in range(2,5):\n",
    "    data_lst[i].drop(dm4_column, axis=1, inplace=True)\n",
    "    "
   ]
  },
  {
   "cell_type": "markdown",
   "metadata": {},
   "source": [
    "2-2. 무릎관절통\n",
    "* 6기에만 존재하는 변수 삭제\n",
    "* D_8_1, D_8_1_s, D_8_2, D_8_2_t, D_8_3, D_8_3_s, D_8_4, OA_H_scale, OA_K_scale, OA_L_scale, OA_KH, OA_K, OA_H"
   ]
  },
  {
   "cell_type": "code",
   "execution_count": 208,
   "metadata": {},
   "outputs": [],
   "source": [
    "D8O_column = ['D_8_1', 'D_8_1_s', 'D_8_2', 'D_8_2_t', 'D_8_3', 'D_8_3_s',\n",
    "              'D_8_4', 'OA_H_scale', 'OA_K_scale', 'OA_L_scale', \n",
    "              'OA_KH', 'OA_K', 'OA_H']"
   ]
  },
  {
   "cell_type": "code",
   "execution_count": 209,
   "metadata": {},
   "outputs": [
    {
     "name": "stdout",
     "output_type": "stream",
     "text": [
      "0\n",
      "1\n",
      "2\n",
      "3\n",
      "4\n"
     ]
    }
   ],
   "source": [
    "for i in range(len(data_lst)):\n",
    "    print(i)\n",
    "    \n",
    "    for k in range(len(D8O_column)):\n",
    "        try:\n",
    "            data_lst[i].drop(D8O_column[k], axis=1, inplace=True)\n",
    "        except:\n",
    "            continue\n"
   ]
  },
  {
   "cell_type": "code",
   "execution_count": 260,
   "metadata": {
    "scrolled": true
   },
   "outputs": [
    {
     "name": "stdout",
     "output_type": "stream",
     "text": [
      "0 ['mod_d', 'ID', 'ID_fam', 'year', 'region', 'town_t', 'apt_t', 'psu', 'sex', 'age', 'age_month', 'incm', 'ho_incm', 'incm5', 'ho_incm5', 'edu', 'occp', 'cfam', 'genertn', 'allownc', 'house', 'live_t', 'ainc_unit1', 'ainc_1', 'ainc', 'marri_1', 'marri_2', 'fam_rela', 'tins', 'npins', 'ID_F', 'ID_M', 'D_1_1', 'D_2_1', 'D_2_wk', 'DI1_dg', 'DI1_ag', 'DI1_pr', 'DI1_pt', 'DI1_2', 'DI2_dg', 'DI2_ag', 'DI2_pr', 'DI2_pt', 'DI2_2', 'DI3_dg', 'DI3_ag', 'DI3_pr', 'DI3_pt', 'DI3_2', 'DI4_dg', 'DI4_pr', 'DI4_pt', 'DI5_dg', 'DI5_ag', 'DI5_pr', 'DI5_pt', 'DI6_dg', 'DI6_ag', 'DI6_pr', 'DI6_pt', 'DM1_dg', 'DM1_pr', 'DM1_pt', 'DM2_dg', 'DM2_ag', 'DM2_pr', 'DM2_pt', 'DM3_dg', 'DM3_ag', 'DM3_pr', 'DM3_pt', 'DJ2_dg', 'DJ2_ag', 'DJ2_pr', 'DJ2_pt', 'DJ4_dg', 'DJ4_ag', 'DJ4_pr', 'DJ4_pt', 'DJ4_3', 'DE1_dg', 'DE1_ag', 'DE1_pr', 'DE1_pt', 'DE1_3', 'DE1_31', 'DE1_32', 'DE1_33', 'DE1_34', 'DE1_35', 'DE1_4', 'DE2_dg', 'DE2_ag', 'DE2_pr', 'DE2_pt', 'DC1_dg', 'DC1_ag', 'DC1_pr', 'DC1_pt', 'DC2_dg', 'DC2_ag', 'DC2_pr', 'DC2_pt', 'DC3_dg', 'DC3_ag', 'DC3_pr', 'DC3_pt']\n",
      "\n",
      "1 ['mod_d', 'ID', 'ID_fam', 'year', 'region', 'town_t', 'apt_t', 'psu', 'sex', 'age', 'age_month', 'incm', 'ho_incm', 'incm5', 'ho_incm5', 'edu', 'occp', 'cfam', 'genertn', 'allownc', 'house', 'live_t', 'ainc_unit1', 'ainc_1', 'ainc', 'marri_1', 'marri_2', 'fam_rela', 'tins', 'npins', 'ID_F', 'ID_M', 'D_1_1', 'D_2_1', 'D_2_wk', 'DI1_dg', 'DI1_ag', 'DI1_pr', 'DI1_pt', 'DI1_2', 'DI2_dg', 'DI2_ag', 'DI2_pr', 'DI2_pt', 'DI2_2', 'DI3_dg', 'DI3_ag', 'DI3_pr', 'DI3_pt', 'DI3_2', 'DI4_dg', 'DI4_pr', 'DI4_pt', 'DI5_dg', 'DI5_ag', 'DI5_pr', 'DI5_pt', 'DI6_dg', 'DI6_ag', 'DI6_pr', 'DI6_pt', 'DM1_dg', 'DM1_pr', 'DM1_pt', 'DM2_dg', 'DM2_ag', 'DM2_pr', 'DM2_pt', 'DM3_dg', 'DM3_ag', 'DM3_pr', 'DM3_pt', 'DJ2_dg', 'DJ2_ag', 'DJ2_pr', 'DJ2_pt', 'DJ4_dg', 'DJ4_ag', 'DJ4_pr', 'DJ4_pt', 'DJ4_3', 'DE1_dg', 'DE1_ag', 'DE1_pr', 'DE1_pt', 'DE1_3', 'DE1_31', 'DE1_32', 'DE1_33', 'DE1_34', 'DE1_35', 'DE1_4', 'DE2_dg', 'DE2_ag', 'DE2_pr', 'DE2_pt', 'DC1_dg', 'DC1_ag', 'DC1_pr', 'DC1_pt', 'DC2_dg', 'DC2_ag', 'DC2_pr', 'DC2_pt', 'DC3_dg', 'DC3_ag', 'DC3_pr', 'DC3_pt']\n",
      "\n",
      "2 ['mod_d', 'ID', 'ID_fam', 'year', 'region', 'town_t', 'apt_t', 'psu', 'sex', 'age', 'age_month', 'incm', 'ho_incm', 'incm5', 'ho_incm5', 'edu', 'occp', 'cfam', 'genertn', 'allownc', 'house', 'live_t', 'ainc_unit1', 'ainc_1', 'ainc', 'marri_1', 'marri_2', 'fam_rela', 'tins', 'npins', 'ID_F', 'ID_M', 'D_1_1', 'D_2_1', 'D_2_wk', 'DI1_dg', 'DI1_ag', 'DI1_pr', 'DI1_pt', 'DI1_2', 'DI2_dg', 'DI2_ag', 'DI2_pr', 'DI2_pt', 'DI2_2', 'DI3_dg', 'DI3_ag', 'DI3_pr', 'DI3_pt', 'DI3_2', 'DI4_dg', 'DI4_pr', 'DI4_pt', 'DI5_dg', 'DI5_ag', 'DI5_pr', 'DI5_pt', 'DI6_dg', 'DI6_ag', 'DI6_pr', 'DI6_pt', 'DM1_dg', 'DM1_pr', 'DM1_pt', 'DM2_dg', 'DM2_ag', 'DM2_pr', 'DM2_pt', 'DM3_dg', 'DM3_ag', 'DM3_pr', 'DM3_pt', 'DJ2_dg', 'DJ2_ag', 'DJ2_pr', 'DJ2_pt', 'DJ4_dg', 'DJ4_ag', 'DJ4_pr', 'DJ4_pt', 'DJ4_3', 'DE1_dg', 'DE1_ag', 'DE1_pr', 'DE1_pt', 'DE1_3', 'DE1_31', 'DE1_32', 'DE1_33', 'DE1_34', 'DE1_35', 'DE1_4', 'DE2_dg', 'DE2_ag', 'DE2_pr', 'DE2_pt', 'DC1_dg', 'DC1_ag', 'DC1_pr', 'DC1_pt', 'DC2_dg', 'DC2_ag', 'DC2_pr', 'DC2_pt', 'DC3_dg', 'DC3_ag', 'DC3_pr', 'DC3_pt']\n",
      "\n",
      "3 ['mod_d', 'ID', 'ID_fam', 'year', 'region', 'town_t', 'apt_t', 'psu', 'sex', 'age', 'age_month', 'incm', 'ho_incm', 'incm5', 'ho_incm5', 'edu', 'occp', 'cfam', 'genertn', 'allownc', 'house', 'live_t', 'ainc_unit1', 'ainc_1', 'ainc', 'marri_1', 'marri_2', 'fam_rela', 'tins', 'npins', 'ID_F', 'ID_M', 'D_1_1', 'D_2_1', 'D_2_wk', 'DI1_dg', 'DI1_ag', 'DI1_pr', 'DI1_pt', 'DI1_2', 'DI2_dg', 'DI2_ag', 'DI2_pr', 'DI2_pt', 'DI2_2', 'DI3_dg', 'DI3_ag', 'DI3_pr', 'DI3_pt', 'DI3_2', 'DI4_dg', 'DI4_pr', 'DI4_pt', 'DI5_dg', 'DI5_ag', 'DI5_pr', 'DI5_pt', 'DI6_dg', 'DI6_ag', 'DI6_pr', 'DI6_pt', 'DM1_dg', 'DM1_pr', 'DM1_pt', 'DM2_dg', 'DM2_ag', 'DM2_pr', 'DM2_pt', 'DM3_dg', 'DM3_ag', 'DM3_pr', 'DM3_pt', 'DJ2_dg', 'DJ2_ag', 'DJ2_pr', 'DJ2_pt', 'DJ4_dg', 'DJ4_ag', 'DJ4_pr', 'DJ4_pt', 'DJ4_3', 'DE1_dg', 'DE1_ag', 'DE1_pr', 'DE1_pt', 'DE1_3', 'DE1_31', 'DE1_32', 'DE1_33', 'DE1_34', 'DE1_35', 'DE1_4', 'DE2_dg', 'DE2_ag', 'DE2_pr', 'DE2_pt', 'DC1_dg', 'DC1_ag', 'DC1_pr', 'DC1_pt', 'DC2_dg', 'DC2_ag', 'DC2_pr', 'DC2_pt', 'DC3_dg', 'DC3_ag', 'DC3_pr', 'DC3_pt']\n",
      "\n",
      "4 ['mod_d', 'ID', 'ID_fam', 'year', 'region', 'town_t', 'apt_t', 'psu', 'sex', 'age', 'age_month', 'incm', 'ho_incm', 'incm5', 'ho_incm5', 'edu', 'occp', 'cfam', 'genertn', 'allownc', 'house', 'live_t', 'ainc_unit1', 'ainc_1', 'ainc', 'marri_1', 'marri_2', 'fam_rela', 'tins', 'npins', 'ID_F', 'ID_M', 'D_1_1', 'D_2_1', 'D_2_wk', 'DI1_dg', 'DI1_ag', 'DI1_pr', 'DI1_pt', 'DI1_2', 'DI2_dg', 'DI2_ag', 'DI2_pr', 'DI2_pt', 'DI2_2', 'DI3_dg', 'DI3_ag', 'DI3_pr', 'DI3_pt', 'DI3_2', 'DI4_dg', 'DI4_pr', 'DI4_pt', 'DI5_dg', 'DI5_ag', 'DI5_pr', 'DI5_pt', 'DI6_dg', 'DI6_ag', 'DI6_pr', 'DI6_pt', 'DM1_dg', 'DM1_pr', 'DM1_pt', 'DM2_dg', 'DM2_ag', 'DM2_pr', 'DM2_pt', 'DM3_dg', 'DM3_ag', 'DM3_pr', 'DM3_pt', 'DJ2_dg', 'DJ2_ag', 'DJ2_pr', 'DJ2_pt', 'DJ4_dg', 'DJ4_ag', 'DJ4_pr', 'DJ4_pt', 'DJ4_3', 'DE1_dg', 'DE1_ag', 'DE1_pr', 'DE1_pt', 'DE1_3', 'DE1_31', 'DE1_32', 'DE1_33', 'DE1_34', 'DE1_35', 'DE1_4', 'DE2_dg', 'DE2_ag', 'DE2_pr', 'DE2_pt', 'DC1_dg', 'DC1_ag', 'DC1_pr', 'DC1_pt', 'DC2_dg', 'DC2_ag', 'DC2_pr', 'DC2_pt', 'DC3_dg', 'DC3_ag', 'DC3_pr', 'DC3_pt']\n",
      "\n"
     ]
    }
   ],
   "source": [
    "for i in range(5):\n",
    "    print(i, list(data_lst[i].columns)[:108])\n",
    "    print()"
   ]
  },
  {
   "cell_type": "markdown",
   "metadata": {},
   "source": [
    "# CSV 파일 저장"
   ]
  },
  {
   "cell_type": "code",
   "execution_count": 243,
   "metadata": {},
   "outputs": [],
   "source": [
    "csv_lst = []\n",
    "\n",
    "for i in range(len(data_lst)):\n",
    "    tmp = data_lst[i].iloc[:,0:108]\n",
    "    csv_lst.append(tmp)"
   ]
  },
  {
   "cell_type": "code",
   "execution_count": 244,
   "metadata": {
    "scrolled": true
   },
   "outputs": [
    {
     "name": "stdout",
     "output_type": "stream",
     "text": [
      "0 ['mod_d', 'ID', 'ID_fam', 'year', 'region', 'town_t', 'apt_t', 'psu', 'sex', 'age', 'age_month', 'incm', 'ho_incm', 'incm5', 'ho_incm5', 'edu', 'occp', 'cfam', 'genertn', 'allownc', 'house', 'live_t', 'ainc_unit1', 'ainc_1', 'ainc', 'marri_1', 'marri_2', 'fam_rela', 'tins', 'npins', 'ID_F', 'ID_M', 'D_1_1', 'D_2_1', 'D_2_wk', 'DI1_dg', 'DI1_ag', 'DI1_pr', 'DI1_pt', 'DI1_2', 'DI2_dg', 'DI2_ag', 'DI2_pr', 'DI2_pt', 'DI2_2', 'DI3_dg', 'DI3_ag', 'DI3_pr', 'DI3_pt', 'DI3_2', 'DI4_dg', 'DI4_pr', 'DI4_pt', 'DI5_dg', 'DI5_ag', 'DI5_pr', 'DI5_pt', 'DI6_dg', 'DI6_ag', 'DI6_pr', 'DI6_pt', 'DM1_dg', 'DM1_pr', 'DM1_pt', 'DM2_dg', 'DM2_ag', 'DM2_pr', 'DM2_pt', 'DM3_dg', 'DM3_ag', 'DM3_pr', 'DM3_pt', 'DJ2_dg', 'DJ2_ag', 'DJ2_pr', 'DJ2_pt', 'DJ4_dg', 'DJ4_ag', 'DJ4_pr', 'DJ4_pt', 'DJ4_3', 'DE1_dg', 'DE1_ag', 'DE1_pr', 'DE1_pt', 'DE1_3', 'DE1_31', 'DE1_32', 'DE1_33', 'DE1_34', 'DE1_35', 'DE1_4', 'DE2_dg', 'DE2_ag', 'DE2_pr', 'DE2_pt', 'DC1_dg', 'DC1_ag', 'DC1_pr', 'DC1_pt', 'DC2_dg', 'DC2_ag', 'DC2_pr', 'DC2_pt', 'DC3_dg', 'DC3_ag', 'DC3_pr', 'DC3_pt']\n",
      "\n",
      "1 ['mod_d', 'ID', 'ID_fam', 'year', 'region', 'town_t', 'apt_t', 'psu', 'sex', 'age', 'age_month', 'incm', 'ho_incm', 'incm5', 'ho_incm5', 'edu', 'occp', 'cfam', 'genertn', 'allownc', 'house', 'live_t', 'ainc_unit1', 'ainc_1', 'ainc', 'marri_1', 'marri_2', 'fam_rela', 'tins', 'npins', 'ID_F', 'ID_M', 'D_1_1', 'D_2_1', 'D_2_wk', 'DI1_dg', 'DI1_ag', 'DI1_pr', 'DI1_pt', 'DI1_2', 'DI2_dg', 'DI2_ag', 'DI2_pr', 'DI2_pt', 'DI2_2', 'DI3_dg', 'DI3_ag', 'DI3_pr', 'DI3_pt', 'DI3_2', 'DI4_dg', 'DI4_pr', 'DI4_pt', 'DI5_dg', 'DI5_ag', 'DI5_pr', 'DI5_pt', 'DI6_dg', 'DI6_ag', 'DI6_pr', 'DI6_pt', 'DM1_dg', 'DM1_pr', 'DM1_pt', 'DM2_dg', 'DM2_ag', 'DM2_pr', 'DM2_pt', 'DM3_dg', 'DM3_ag', 'DM3_pr', 'DM3_pt', 'DJ2_dg', 'DJ2_ag', 'DJ2_pr', 'DJ2_pt', 'DJ4_dg', 'DJ4_ag', 'DJ4_pr', 'DJ4_pt', 'DJ4_3', 'DE1_dg', 'DE1_ag', 'DE1_pr', 'DE1_pt', 'DE1_3', 'DE1_31', 'DE1_32', 'DE1_33', 'DE1_34', 'DE1_35', 'DE1_4', 'DE2_dg', 'DE2_ag', 'DE2_pr', 'DE2_pt', 'DC1_dg', 'DC1_ag', 'DC1_pr', 'DC1_pt', 'DC2_dg', 'DC2_ag', 'DC2_pr', 'DC2_pt', 'DC3_dg', 'DC3_ag', 'DC3_pr', 'DC3_pt']\n",
      "\n",
      "2 ['mod_d', 'ID', 'ID_fam', 'year', 'region', 'town_t', 'apt_t', 'psu', 'sex', 'age', 'age_month', 'incm', 'ho_incm', 'incm5', 'ho_incm5', 'edu', 'occp', 'cfam', 'genertn', 'allownc', 'house', 'live_t', 'ainc_unit1', 'ainc_1', 'ainc', 'marri_1', 'marri_2', 'fam_rela', 'tins', 'npins', 'ID_F', 'ID_M', 'D_1_1', 'D_2_1', 'D_2_wk', 'DI1_dg', 'DI1_ag', 'DI1_pr', 'DI1_pt', 'DI1_2', 'DI2_dg', 'DI2_ag', 'DI2_pr', 'DI2_pt', 'DI2_2', 'DI3_dg', 'DI3_ag', 'DI3_pr', 'DI3_pt', 'DI3_2', 'DI4_dg', 'DI4_pr', 'DI4_pt', 'DI5_dg', 'DI5_ag', 'DI5_pr', 'DI5_pt', 'DI6_dg', 'DI6_ag', 'DI6_pr', 'DI6_pt', 'DM1_dg', 'DM1_pr', 'DM1_pt', 'DM2_dg', 'DM2_ag', 'DM2_pr', 'DM2_pt', 'DM3_dg', 'DM3_ag', 'DM3_pr', 'DM3_pt', 'DJ2_dg', 'DJ2_ag', 'DJ2_pr', 'DJ2_pt', 'DJ4_dg', 'DJ4_ag', 'DJ4_pr', 'DJ4_pt', 'DJ4_3', 'DE1_dg', 'DE1_ag', 'DE1_pr', 'DE1_pt', 'DE1_3', 'DE1_31', 'DE1_32', 'DE1_33', 'DE1_34', 'DE1_35', 'DE1_4', 'DE2_dg', 'DE2_ag', 'DE2_pr', 'DE2_pt', 'DC1_dg', 'DC1_ag', 'DC1_pr', 'DC1_pt', 'DC2_dg', 'DC2_ag', 'DC2_pr', 'DC2_pt', 'DC3_dg', 'DC3_ag', 'DC3_pr', 'DC3_pt']\n",
      "\n",
      "3 ['mod_d', 'ID', 'ID_fam', 'year', 'region', 'town_t', 'apt_t', 'psu', 'sex', 'age', 'age_month', 'incm', 'ho_incm', 'incm5', 'ho_incm5', 'edu', 'occp', 'cfam', 'genertn', 'allownc', 'house', 'live_t', 'ainc_unit1', 'ainc_1', 'ainc', 'marri_1', 'marri_2', 'fam_rela', 'tins', 'npins', 'ID_F', 'ID_M', 'D_1_1', 'D_2_1', 'D_2_wk', 'DI1_dg', 'DI1_ag', 'DI1_pr', 'DI1_pt', 'DI1_2', 'DI2_dg', 'DI2_ag', 'DI2_pr', 'DI2_pt', 'DI2_2', 'DI3_dg', 'DI3_ag', 'DI3_pr', 'DI3_pt', 'DI3_2', 'DI4_dg', 'DI4_pr', 'DI4_pt', 'DI5_dg', 'DI5_ag', 'DI5_pr', 'DI5_pt', 'DI6_dg', 'DI6_ag', 'DI6_pr', 'DI6_pt', 'DM1_dg', 'DM1_pr', 'DM1_pt', 'DM2_dg', 'DM2_ag', 'DM2_pr', 'DM2_pt', 'DM3_dg', 'DM3_ag', 'DM3_pr', 'DM3_pt', 'DJ2_dg', 'DJ2_ag', 'DJ2_pr', 'DJ2_pt', 'DJ4_dg', 'DJ4_ag', 'DJ4_pr', 'DJ4_pt', 'DJ4_3', 'DE1_dg', 'DE1_ag', 'DE1_pr', 'DE1_pt', 'DE1_3', 'DE1_31', 'DE1_32', 'DE1_33', 'DE1_34', 'DE1_35', 'DE1_4', 'DE2_dg', 'DE2_ag', 'DE2_pr', 'DE2_pt', 'DC1_dg', 'DC1_ag', 'DC1_pr', 'DC1_pt', 'DC2_dg', 'DC2_ag', 'DC2_pr', 'DC2_pt', 'DC3_dg', 'DC3_ag', 'DC3_pr', 'DC3_pt']\n",
      "\n",
      "4 ['mod_d', 'ID', 'ID_fam', 'year', 'region', 'town_t', 'apt_t', 'psu', 'sex', 'age', 'age_month', 'incm', 'ho_incm', 'incm5', 'ho_incm5', 'edu', 'occp', 'cfam', 'genertn', 'allownc', 'house', 'live_t', 'ainc_unit1', 'ainc_1', 'ainc', 'marri_1', 'marri_2', 'fam_rela', 'tins', 'npins', 'ID_F', 'ID_M', 'D_1_1', 'D_2_1', 'D_2_wk', 'DI1_dg', 'DI1_ag', 'DI1_pr', 'DI1_pt', 'DI1_2', 'DI2_dg', 'DI2_ag', 'DI2_pr', 'DI2_pt', 'DI2_2', 'DI3_dg', 'DI3_ag', 'DI3_pr', 'DI3_pt', 'DI3_2', 'DI4_dg', 'DI4_pr', 'DI4_pt', 'DI5_dg', 'DI5_ag', 'DI5_pr', 'DI5_pt', 'DI6_dg', 'DI6_ag', 'DI6_pr', 'DI6_pt', 'DM1_dg', 'DM1_pr', 'DM1_pt', 'DM2_dg', 'DM2_ag', 'DM2_pr', 'DM2_pt', 'DM3_dg', 'DM3_ag', 'DM3_pr', 'DM3_pt', 'DJ2_dg', 'DJ2_ag', 'DJ2_pr', 'DJ2_pt', 'DJ4_dg', 'DJ4_ag', 'DJ4_pr', 'DJ4_pt', 'DJ4_3', 'DE1_dg', 'DE1_ag', 'DE1_pr', 'DE1_pt', 'DE1_3', 'DE1_31', 'DE1_32', 'DE1_33', 'DE1_34', 'DE1_35', 'DE1_4', 'DE2_dg', 'DE2_ag', 'DE2_pr', 'DE2_pt', 'DC1_dg', 'DC1_ag', 'DC1_pr', 'DC1_pt', 'DC2_dg', 'DC2_ag', 'DC2_pr', 'DC2_pt', 'DC3_dg', 'DC3_ag', 'DC3_pr', 'DC3_pt']\n",
      "\n"
     ]
    }
   ],
   "source": [
    "for i in range(5):\n",
    "    print(i, list(csv_lst[i].columns))\n",
    "    print()"
   ]
  },
  {
   "cell_type": "markdown",
   "metadata": {},
   "source": [
    "* 각 년도별"
   ]
  },
  {
   "cell_type": "code",
   "execution_count": 245,
   "metadata": {},
   "outputs": [],
   "source": [
    "y = [2013,2014,2015,2016,2017]\n",
    "\n",
    "for i in range(len(csv_lst)):\n",
    "    name = \"1_\" + str(y[i]) + \".csv\"\n",
    "    csv_lst[i].to_csv(name, index = False)"
   ]
  },
  {
   "cell_type": "markdown",
   "metadata": {},
   "source": [
    "* 전년도"
   ]
  },
  {
   "cell_type": "code",
   "execution_count": 253,
   "metadata": {},
   "outputs": [],
   "source": [
    "all_data1 = pd.concat(csv_lst, axis=0, sort=False)"
   ]
  },
  {
   "cell_type": "code",
   "execution_count": 254,
   "metadata": {},
   "outputs": [],
   "source": [
    "all_data1.to_csv(\"1_all.csv\",index = False)"
   ]
  },
  {
   "cell_type": "markdown",
   "metadata": {},
   "source": [
    "#### column 확인"
   ]
  },
  {
   "cell_type": "code",
   "execution_count": 249,
   "metadata": {},
   "outputs": [],
   "source": [
    "col_check = []\n",
    "\n",
    "for i in range(len(csv_lst)):\n",
    "    col_check.append(list(csv_lst[i].columns))"
   ]
  },
  {
   "cell_type": "code",
   "execution_count": 259,
   "metadata": {},
   "outputs": [
    {
     "name": "stdout",
     "output_type": "stream",
     "text": [
      "True\n",
      "True\n",
      "True\n",
      "True\n"
     ]
    }
   ],
   "source": [
    "print(col_check[0] == col_check[1])\n",
    "print(col_check[1] == col_check[2])\n",
    "print(col_check[2] == col_check[3])\n",
    "print(col_check[3] == col_check[4])"
   ]
  },
  {
   "cell_type": "code",
   "execution_count": 130,
   "metadata": {},
   "outputs": [
    {
     "name": "stdout",
     "output_type": "stream",
     "text": [
      "0 False\n",
      "1 False\n",
      "2 False\n",
      "3 False\n",
      "4 False\n"
     ]
    }
   ],
   "source": [
    "# for i in range(len(data_lst)):\n",
    "#     print(i, D8O_column[8] in list(data_lst[i].columns))\n",
    "\n",
    "#     tmp = list(data_lst[i]['DI1_ag'].unique())\n",
    "    \n",
    "#     tmp.sort()\n",
    "#     print(i, tmp)\n"
   ]
  },
  {
   "cell_type": "markdown",
   "metadata": {},
   "source": [
    "#### 1_all column 확인"
   ]
  },
  {
   "cell_type": "code",
   "execution_count": 256,
   "metadata": {},
   "outputs": [
    {
     "name": "stderr",
     "output_type": "stream",
     "text": [
      "C:\\Users\\julia\\Anaconda3\\lib\\site-packages\\IPython\\core\\interactiveshell.py:3058: DtypeWarning: Columns (90) have mixed types. Specify dtype option on import or set low_memory=False.\n",
      "  interactivity=interactivity, compiler=compiler, result=result)\n"
     ]
    }
   ],
   "source": [
    "all = pd.read_csv(\"1_all.csv\")"
   ]
  },
  {
   "cell_type": "code",
   "execution_count": 257,
   "metadata": {},
   "outputs": [],
   "source": [
    "all_c = list(all.columns)"
   ]
  },
  {
   "cell_type": "code",
   "execution_count": 258,
   "metadata": {},
   "outputs": [
    {
     "data": {
      "text/plain": [
       "True"
      ]
     },
     "execution_count": 258,
     "metadata": {},
     "output_type": "execute_result"
    }
   ],
   "source": [
    "all_c == col_check[1]"
   ]
  }
 ],
 "metadata": {
  "kernelspec": {
   "display_name": "Python 3",
   "language": "python",
   "name": "python3"
  },
  "language_info": {
   "codemirror_mode": {
    "name": "ipython",
    "version": 3
   },
   "file_extension": ".py",
   "mimetype": "text/x-python",
   "name": "python",
   "nbconvert_exporter": "python",
   "pygments_lexer": "ipython3",
   "version": "3.7.4"
  }
 },
 "nbformat": 4,
 "nbformat_minor": 2
}
