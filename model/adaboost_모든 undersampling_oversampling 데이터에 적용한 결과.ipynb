{
 "cells": [
  {
   "cell_type": "markdown",
   "metadata": {},
   "source": [
    "# Import Python module "
   ]
  },
  {
   "cell_type": "code",
   "execution_count": 2,
   "metadata": {},
   "outputs": [],
   "source": [
    "import pandas as pd\n",
    "import numpy as np\n",
    "\n",
    "from collections import Counter\n",
    "\n",
    "\n",
    "from sklearn.ensemble import AdaBoostClassifier,RandomForestClassifier\n",
    "from sklearn.tree import DecisionTreeClassifier\n",
    "from sklearn.datasets import load_breast_cancer\n",
    "\n",
    "from sklearn.model_selection import cross_val_score\n",
    "\n",
    "from sklearn.model_selection import train_test_split\n",
    "from sklearn.metrics import confusion_matrix\n",
    "from sklearn.preprocessing import LabelEncoder\n",
    "\n",
    "from sklearn.metrics import accuracy_score,recall_score ,precision_score"
   ]
  },
  {
   "cell_type": "markdown",
   "metadata": {},
   "source": [
    "## Test data 준비"
   ]
  },
  {
   "cell_type": "code",
   "execution_count": 5,
   "metadata": {},
   "outputs": [],
   "source": [
    "testdata = pd.read_csv(\"feature_select_test_set.csv\")"
   ]
  },
  {
   "cell_type": "code",
   "execution_count": 6,
   "metadata": {},
   "outputs": [],
   "source": [
    "test_X = testdata.drop([\"Is_Depressed\"],axis = 1)\n",
    "test_y = testdata[\"Is_Depressed\"]"
   ]
  },
  {
   "cell_type": "code",
   "execution_count": 8,
   "metadata": {},
   "outputs": [
    {
     "name": "stdout",
     "output_type": "stream",
     "text": [
      "[(0, 7166), (1, 148)]\n"
     ]
    }
   ],
   "source": [
    "print(sorted(Counter(test_y).items()))"
   ]
  },
  {
   "cell_type": "markdown",
   "metadata": {},
   "source": [
    "# 1. SMOTENC.csv"
   ]
  },
  {
   "cell_type": "markdown",
   "metadata": {},
   "source": [
    "* read csv"
   ]
  },
  {
   "cell_type": "code",
   "execution_count": 66,
   "metadata": {},
   "outputs": [],
   "source": [
    "traindata_smote = pd.read_csv(\"dataset_SMOTENC.csv\")"
   ]
  },
  {
   "cell_type": "code",
   "execution_count": 68,
   "metadata": {
    "scrolled": true
   },
   "outputs": [
    {
     "data": {
      "text/html": [
       "<div>\n",
       "<style scoped>\n",
       "    .dataframe tbody tr th:only-of-type {\n",
       "        vertical-align: middle;\n",
       "    }\n",
       "\n",
       "    .dataframe tbody tr th {\n",
       "        vertical-align: top;\n",
       "    }\n",
       "\n",
       "    .dataframe thead th {\n",
       "        text-align: right;\n",
       "    }\n",
       "</style>\n",
       "<table border=\"1\" class=\"dataframe\">\n",
       "  <thead>\n",
       "    <tr style=\"text-align: right;\">\n",
       "      <th></th>\n",
       "      <th>BP7</th>\n",
       "      <th>D_1_1</th>\n",
       "      <th>BP1</th>\n",
       "      <th>LW_mp_a</th>\n",
       "      <th>ainc</th>\n",
       "      <th>DC6_dg</th>\n",
       "      <th>BP6_10</th>\n",
       "      <th>HE_wt</th>\n",
       "      <th>age</th>\n",
       "      <th>EC1_2</th>\n",
       "      <th>...</th>\n",
       "      <th>HE_obe</th>\n",
       "      <th>BM1_4</th>\n",
       "      <th>BO2_1</th>\n",
       "      <th>HE_Uph</th>\n",
       "      <th>EC_lgw_2</th>\n",
       "      <th>DE1_4</th>\n",
       "      <th>BD2_31</th>\n",
       "      <th>BS6_2</th>\n",
       "      <th>DH2_dg</th>\n",
       "      <th>Is_Depressed</th>\n",
       "    </tr>\n",
       "  </thead>\n",
       "  <tbody>\n",
       "    <tr>\n",
       "      <th>0</th>\n",
       "      <td>8.0</td>\n",
       "      <td>1.0</td>\n",
       "      <td>8.0</td>\n",
       "      <td>888.0</td>\n",
       "      <td>500.0</td>\n",
       "      <td>8.0</td>\n",
       "      <td>8.0</td>\n",
       "      <td>19.5</td>\n",
       "      <td>3.0</td>\n",
       "      <td>8.0</td>\n",
       "      <td>...</td>\n",
       "      <td>9.0</td>\n",
       "      <td>8.0</td>\n",
       "      <td>8.0</td>\n",
       "      <td>9.0</td>\n",
       "      <td>88.0</td>\n",
       "      <td>8.0</td>\n",
       "      <td>8.0</td>\n",
       "      <td>8888.0</td>\n",
       "      <td>9.0</td>\n",
       "      <td>0</td>\n",
       "    </tr>\n",
       "    <tr>\n",
       "      <th>1</th>\n",
       "      <td>2.0</td>\n",
       "      <td>4.0</td>\n",
       "      <td>3.0</td>\n",
       "      <td>999.0</td>\n",
       "      <td>314.0</td>\n",
       "      <td>0.0</td>\n",
       "      <td>2.0</td>\n",
       "      <td>66.9</td>\n",
       "      <td>76.0</td>\n",
       "      <td>5.0</td>\n",
       "      <td>...</td>\n",
       "      <td>2.0</td>\n",
       "      <td>0.0</td>\n",
       "      <td>1.0</td>\n",
       "      <td>6.5</td>\n",
       "      <td>7.0</td>\n",
       "      <td>8.0</td>\n",
       "      <td>4.0</td>\n",
       "      <td>480.0</td>\n",
       "      <td>1.0</td>\n",
       "      <td>0</td>\n",
       "    </tr>\n",
       "    <tr>\n",
       "      <th>2</th>\n",
       "      <td>2.0</td>\n",
       "      <td>3.0</td>\n",
       "      <td>3.0</td>\n",
       "      <td>999.0</td>\n",
       "      <td>700.0</td>\n",
       "      <td>8.0</td>\n",
       "      <td>2.0</td>\n",
       "      <td>48.7</td>\n",
       "      <td>12.0</td>\n",
       "      <td>8.0</td>\n",
       "      <td>...</td>\n",
       "      <td>9.0</td>\n",
       "      <td>0.0</td>\n",
       "      <td>4.0</td>\n",
       "      <td>6.0</td>\n",
       "      <td>88.0</td>\n",
       "      <td>8.0</td>\n",
       "      <td>8.0</td>\n",
       "      <td>8888.0</td>\n",
       "      <td>8.0</td>\n",
       "      <td>0</td>\n",
       "    </tr>\n",
       "    <tr>\n",
       "      <th>3</th>\n",
       "      <td>8.0</td>\n",
       "      <td>2.0</td>\n",
       "      <td>3.0</td>\n",
       "      <td>888.0</td>\n",
       "      <td>1009.0</td>\n",
       "      <td>0.0</td>\n",
       "      <td>2.0</td>\n",
       "      <td>54.1</td>\n",
       "      <td>38.0</td>\n",
       "      <td>8.0</td>\n",
       "      <td>...</td>\n",
       "      <td>2.0</td>\n",
       "      <td>1.0</td>\n",
       "      <td>3.0</td>\n",
       "      <td>5.0</td>\n",
       "      <td>3.0</td>\n",
       "      <td>8.0</td>\n",
       "      <td>3.0</td>\n",
       "      <td>8888.0</td>\n",
       "      <td>9.0</td>\n",
       "      <td>0</td>\n",
       "    </tr>\n",
       "    <tr>\n",
       "      <th>4</th>\n",
       "      <td>2.0</td>\n",
       "      <td>2.0</td>\n",
       "      <td>1.0</td>\n",
       "      <td>888.0</td>\n",
       "      <td>500.0</td>\n",
       "      <td>8.0</td>\n",
       "      <td>2.0</td>\n",
       "      <td>45.8</td>\n",
       "      <td>14.0</td>\n",
       "      <td>8.0</td>\n",
       "      <td>...</td>\n",
       "      <td>9.0</td>\n",
       "      <td>1.0</td>\n",
       "      <td>1.0</td>\n",
       "      <td>6.5</td>\n",
       "      <td>88.0</td>\n",
       "      <td>8.0</td>\n",
       "      <td>8.0</td>\n",
       "      <td>8888.0</td>\n",
       "      <td>8.0</td>\n",
       "      <td>0</td>\n",
       "    </tr>\n",
       "  </tbody>\n",
       "</table>\n",
       "<p>5 rows × 58 columns</p>\n",
       "</div>"
      ],
      "text/plain": [
       "   BP7  D_1_1  BP1  LW_mp_a    ainc  DC6_dg  BP6_10  HE_wt   age  EC1_2  \\\n",
       "0  8.0    1.0  8.0    888.0   500.0     8.0     8.0   19.5   3.0    8.0   \n",
       "1  2.0    4.0  3.0    999.0   314.0     0.0     2.0   66.9  76.0    5.0   \n",
       "2  2.0    3.0  3.0    999.0   700.0     8.0     2.0   48.7  12.0    8.0   \n",
       "3  8.0    2.0  3.0    888.0  1009.0     0.0     2.0   54.1  38.0    8.0   \n",
       "4  2.0    2.0  1.0    888.0   500.0     8.0     2.0   45.8  14.0    8.0   \n",
       "\n",
       "       ...       HE_obe  BM1_4  BO2_1  HE_Uph  EC_lgw_2  DE1_4  BD2_31  \\\n",
       "0      ...          9.0    8.0    8.0     9.0      88.0    8.0     8.0   \n",
       "1      ...          2.0    0.0    1.0     6.5       7.0    8.0     4.0   \n",
       "2      ...          9.0    0.0    4.0     6.0      88.0    8.0     8.0   \n",
       "3      ...          2.0    1.0    3.0     5.0       3.0    8.0     3.0   \n",
       "4      ...          9.0    1.0    1.0     6.5      88.0    8.0     8.0   \n",
       "\n",
       "    BS6_2  DH2_dg  Is_Depressed  \n",
       "0  8888.0     9.0             0  \n",
       "1   480.0     1.0             0  \n",
       "2  8888.0     8.0             0  \n",
       "3  8888.0     9.0             0  \n",
       "4  8888.0     8.0             0  \n",
       "\n",
       "[5 rows x 58 columns]"
      ]
     },
     "execution_count": 68,
     "metadata": {},
     "output_type": "execute_result"
    }
   ],
   "source": [
    "traindata_smote.head()"
   ]
  },
  {
   "cell_type": "code",
   "execution_count": 69,
   "metadata": {},
   "outputs": [],
   "source": [
    "train_smote_X = traindata_smote.drop([\"Is_Depressed\"],axis = 1)\n",
    "train_smote_y = traindata_smote[\"Is_Depressed\"]"
   ]
  },
  {
   "cell_type": "code",
   "execution_count": 71,
   "metadata": {},
   "outputs": [
    {
     "name": "stdout",
     "output_type": "stream",
     "text": [
      "[(0, 28639), (1, 28639)]\n"
     ]
    }
   ],
   "source": [
    "print(sorted(Counter(train_smote_y).items()))"
   ]
  },
  {
   "cell_type": "code",
   "execution_count": 72,
   "metadata": {},
   "outputs": [],
   "source": [
    "# classifier = AdaBoostClassifier(\n",
    "#     RandomForestClassifier(n_estimators = 10),\n",
    "#     algorithm=\"SAMME\",\n",
    "#     n_estimators=200\n",
    "# )\n",
    "\n",
    "classifier_smote = AdaBoostClassifier(\n",
    "    RandomForestClassifier(n_estimators = 500),\n",
    "    algorithm=\"SAMME\",\n",
    "    n_estimators=1000\n",
    ")"
   ]
  },
  {
   "cell_type": "code",
   "execution_count": 73,
   "metadata": {},
   "outputs": [
    {
     "name": "stdout",
     "output_type": "stream",
     "text": [
      "[0.         0.         0.06666667 0.13333333 0.         0.\n",
      " 0.         0.         0.         0.        ]\n"
     ]
    }
   ],
   "source": [
    "scores = cross_val_score(classifier_smote, test_X, test_y, cv=10, scoring='recall')\n",
    "print(scores)"
   ]
  },
  {
   "cell_type": "code",
   "execution_count": 74,
   "metadata": {},
   "outputs": [
    {
     "data": {
      "text/plain": [
       "AdaBoostClassifier(algorithm='SAMME',\n",
       "                   base_estimator=RandomForestClassifier(bootstrap=True,\n",
       "                                                         class_weight=None,\n",
       "                                                         criterion='gini',\n",
       "                                                         max_depth=None,\n",
       "                                                         max_features='auto',\n",
       "                                                         max_leaf_nodes=None,\n",
       "                                                         min_impurity_decrease=0.0,\n",
       "                                                         min_impurity_split=None,\n",
       "                                                         min_samples_leaf=1,\n",
       "                                                         min_samples_split=2,\n",
       "                                                         min_weight_fraction_leaf=0.0,\n",
       "                                                         n_estimators=500,\n",
       "                                                         n_jobs=None,\n",
       "                                                         oob_score=False,\n",
       "                                                         random_state=None,\n",
       "                                                         verbose=0,\n",
       "                                                         warm_start=False),\n",
       "                   learning_rate=1.0, n_estimators=1000, random_state=None)"
      ]
     },
     "execution_count": 74,
     "metadata": {},
     "output_type": "execute_result"
    }
   ],
   "source": [
    "classifier_smote.fit(train_smote_X, train_smote_y)"
   ]
  },
  {
   "cell_type": "code",
   "execution_count": 75,
   "metadata": {
    "scrolled": true
   },
   "outputs": [],
   "source": [
    "predictions_smote = classifier_smote.predict(test_X)"
   ]
  },
  {
   "cell_type": "code",
   "execution_count": 76,
   "metadata": {},
   "outputs": [
    {
     "data": {
      "text/plain": [
       "array([[7122,   44],\n",
       "       [ 113,   35]], dtype=int64)"
      ]
     },
     "execution_count": 76,
     "metadata": {},
     "output_type": "execute_result"
    }
   ],
   "source": [
    "confusion_matrix(test_y, predictions_smote)"
   ]
  },
  {
   "cell_type": "code",
   "execution_count": 77,
   "metadata": {},
   "outputs": [
    {
     "name": "stdout",
     "output_type": "stream",
     "text": [
      "정확도 0.978534317746787\n",
      "Recall 0.23648648648648649\n",
      "Precision 0.4430379746835443\n"
     ]
    }
   ],
   "source": [
    "print(\"정확도\",accuracy_score(test_y, predictions_smote))\n",
    "print(\"Recall\",recall_score(test_y, predictions_smote))\n",
    "print(\"Precision\",precision_score(test_y,predictions_smote))"
   ]
  },
  {
   "cell_type": "markdown",
   "metadata": {},
   "source": [
    "# 2. dataset_edited.csv"
   ]
  },
  {
   "cell_type": "code",
   "execution_count": 30,
   "metadata": {},
   "outputs": [],
   "source": [
    "traindata_edit = pd.read_csv(\"dataset_edited.csv\")"
   ]
  },
  {
   "cell_type": "code",
   "execution_count": 31,
   "metadata": {},
   "outputs": [],
   "source": [
    "train_edit_X = traindata_edit.drop([\"Is_Depressed\"],axis = 1)\n",
    "train_edit_y = traindata_edit[\"Is_Depressed\"]"
   ]
  },
  {
   "cell_type": "code",
   "execution_count": 33,
   "metadata": {},
   "outputs": [
    {
     "name": "stdout",
     "output_type": "stream",
     "text": [
      "[(0, 27183), (1, 615)]\n",
      "[(0, 7166), (1, 148)]\n"
     ]
    }
   ],
   "source": [
    "print(sorted(Counter(train_edit_y).items()))\n",
    "print(sorted(Counter(test_y).items()))"
   ]
  },
  {
   "cell_type": "code",
   "execution_count": 41,
   "metadata": {},
   "outputs": [],
   "source": [
    "# classifier2 = AdaBoostClassifier(\n",
    "#     DecisionTreeClassifier(max_depth=1),\n",
    "#     n_estimators=1000\n",
    "# )\n",
    "\n",
    "# classifier2 = AdaBoostClassifier(\n",
    "#     RandomForestClassifier(n_estimators = 200),\n",
    "#     algorithm=\"SAMME\",\n",
    "#     n_estimators=200\n",
    "# )\n",
    "\n",
    "# classifier2 = AdaBoostClassifier(\n",
    "#     RandomForestClassifier(n_estimators = 200),\n",
    "#     algorithm=\"SAMME\",\n",
    "#     n_estimators=1000\n",
    "# )\n",
    "\n",
    "classifier_edit = AdaBoostClassifier(\n",
    "    RandomForestClassifier(n_estimators = 500),\n",
    "    algorithm=\"SAMME\",\n",
    "    n_estimators=1000\n",
    ")"
   ]
  },
  {
   "cell_type": "code",
   "execution_count": 42,
   "metadata": {},
   "outputs": [
    {
     "name": "stdout",
     "output_type": "stream",
     "text": [
      "[0.         0.         0.06666667 0.06666667 0.06666667 0.\n",
      " 0.         0.         0.         0.        ]\n"
     ]
    }
   ],
   "source": [
    "scores_edit = cross_val_score(classifier_edit, test_X, test_y, cv=10, scoring='recall')\n",
    "print(scores_edit)"
   ]
  },
  {
   "cell_type": "code",
   "execution_count": 45,
   "metadata": {},
   "outputs": [
    {
     "data": {
      "text/plain": [
       "AdaBoostClassifier(algorithm='SAMME',\n",
       "                   base_estimator=RandomForestClassifier(bootstrap=True,\n",
       "                                                         class_weight=None,\n",
       "                                                         criterion='gini',\n",
       "                                                         max_depth=None,\n",
       "                                                         max_features='auto',\n",
       "                                                         max_leaf_nodes=None,\n",
       "                                                         min_impurity_decrease=0.0,\n",
       "                                                         min_impurity_split=None,\n",
       "                                                         min_samples_leaf=1,\n",
       "                                                         min_samples_split=2,\n",
       "                                                         min_weight_fraction_leaf=0.0,\n",
       "                                                         n_estimators=500,\n",
       "                                                         n_jobs=None,\n",
       "                                                         oob_score=False,\n",
       "                                                         random_state=None,\n",
       "                                                         verbose=0,\n",
       "                                                         warm_start=False),\n",
       "                   learning_rate=1.0, n_estimators=1000, random_state=None)"
      ]
     },
     "execution_count": 45,
     "metadata": {},
     "output_type": "execute_result"
    }
   ],
   "source": [
    "classifier_edit.fit(train_edit_X, train_edit_y)"
   ]
  },
  {
   "cell_type": "code",
   "execution_count": 46,
   "metadata": {},
   "outputs": [],
   "source": [
    "predictions_edit = classifier_edit.predict(test_X)"
   ]
  },
  {
   "cell_type": "code",
   "execution_count": 47,
   "metadata": {},
   "outputs": [
    {
     "data": {
      "text/plain": [
       "array([[7159,    7],\n",
       "       [ 128,   20]], dtype=int64)"
      ]
     },
     "execution_count": 47,
     "metadata": {},
     "output_type": "execute_result"
    }
   ],
   "source": [
    "confusion_matrix(test_y, predictions_edit)"
   ]
  },
  {
   "cell_type": "code",
   "execution_count": 48,
   "metadata": {},
   "outputs": [
    {
     "name": "stdout",
     "output_type": "stream",
     "text": [
      "정확도 0.9815422477440525\n",
      "Recall 0.13513513513513514\n",
      "Precision 0.7407407407407407\n"
     ]
    }
   ],
   "source": [
    "print(\"정확도\",accuracy_score(test_y, predictions_edit))\n",
    "print(\"Recall\",recall_score(test_y, predictions_edit))\n",
    "print(\"Precision\",precision_score(test_y,predictions_edit))"
   ]
  },
  {
   "cell_type": "markdown",
   "metadata": {},
   "source": [
    "# 3. dataset_condensed.csv"
   ]
  },
  {
   "cell_type": "code",
   "execution_count": 3,
   "metadata": {},
   "outputs": [],
   "source": [
    "traindata_cond = pd.read_csv(\"dataset_condensed.csv\")"
   ]
  },
  {
   "cell_type": "code",
   "execution_count": 4,
   "metadata": {},
   "outputs": [],
   "source": [
    "train_cond_X = traindata_cond.drop([\"Is_Depressed\"],axis = 1)\n",
    "train_cond_y = traindata_cond[\"Is_Depressed\"]"
   ]
  },
  {
   "cell_type": "code",
   "execution_count": 9,
   "metadata": {},
   "outputs": [
    {
     "name": "stdout",
     "output_type": "stream",
     "text": [
      "[(0, 2442), (1, 615)]\n",
      "[(0, 7166), (1, 148)]\n"
     ]
    }
   ],
   "source": [
    "print(sorted(Counter(train_cond_y).items()))\n",
    "print(sorted(Counter(test_y).items()))"
   ]
  },
  {
   "cell_type": "code",
   "execution_count": 23,
   "metadata": {},
   "outputs": [],
   "source": [
    "classifier_cond = AdaBoostClassifier(\n",
    "    RandomForestClassifier(n_estimators = 500),\n",
    "    algorithm=\"SAMME\",\n",
    "    n_estimators=1000\n",
    ")\n",
    "\n",
    "#200 1000\n"
   ]
  },
  {
   "cell_type": "code",
   "execution_count": 24,
   "metadata": {},
   "outputs": [
    {
     "data": {
      "text/plain": [
       "AdaBoostClassifier(algorithm='SAMME',\n",
       "                   base_estimator=RandomForestClassifier(bootstrap=True,\n",
       "                                                         class_weight=None,\n",
       "                                                         criterion='gini',\n",
       "                                                         max_depth=None,\n",
       "                                                         max_features='auto',\n",
       "                                                         max_leaf_nodes=None,\n",
       "                                                         min_impurity_decrease=0.0,\n",
       "                                                         min_impurity_split=None,\n",
       "                                                         min_samples_leaf=1,\n",
       "                                                         min_samples_split=2,\n",
       "                                                         min_weight_fraction_leaf=0.0,\n",
       "                                                         n_estimators=500,\n",
       "                                                         n_jobs=None,\n",
       "                                                         oob_score=False,\n",
       "                                                         random_state=None,\n",
       "                                                         verbose=0,\n",
       "                                                         warm_start=False),\n",
       "                   learning_rate=1.0, n_estimators=1000, random_state=None)"
      ]
     },
     "execution_count": 24,
     "metadata": {},
     "output_type": "execute_result"
    }
   ],
   "source": [
    "classifier_cond.fit(train_cond_X, train_cond_y)"
   ]
  },
  {
   "cell_type": "code",
   "execution_count": 25,
   "metadata": {},
   "outputs": [],
   "source": [
    "scores_cond = cross_val_score(classifier_cond, test_X, test_y, cv=10, scoring='recall')"
   ]
  },
  {
   "cell_type": "code",
   "execution_count": 26,
   "metadata": {},
   "outputs": [
    {
     "name": "stdout",
     "output_type": "stream",
     "text": [
      "[0.         0.06666667 0.06666667 0.06666667 0.         0.\n",
      " 0.         0.         0.         0.        ]\n"
     ]
    }
   ],
   "source": [
    "print(scores_cond)"
   ]
  },
  {
   "cell_type": "code",
   "execution_count": 27,
   "metadata": {},
   "outputs": [],
   "source": [
    "predictions_cond = classifier_cond.predict(test_X)"
   ]
  },
  {
   "cell_type": "code",
   "execution_count": 28,
   "metadata": {},
   "outputs": [
    {
     "data": {
      "text/plain": [
       "array([[7080,   86],\n",
       "       [  86,   62]], dtype=int64)"
      ]
     },
     "execution_count": 28,
     "metadata": {},
     "output_type": "execute_result"
    }
   ],
   "source": [
    "confusion_matrix(test_y, predictions_cond)"
   ]
  },
  {
   "cell_type": "code",
   "execution_count": 29,
   "metadata": {},
   "outputs": [
    {
     "name": "stdout",
     "output_type": "stream",
     "text": [
      "정확도 0.976483456385015\n",
      "Recall 0.4189189189189189\n",
      "Precision 0.4189189189189189\n"
     ]
    }
   ],
   "source": [
    "print(\"정확도\",accuracy_score(test_y, predictions_cond))\n",
    "print(\"Recall\",recall_score(test_y, predictions_cond))\n",
    "print(\"Precision\",precision_score(test_y,predictions_cond))"
   ]
  },
  {
   "cell_type": "markdown",
   "metadata": {},
   "source": [
    "# 4. dataset_neighbour.csv"
   ]
  },
  {
   "cell_type": "code",
   "execution_count": 49,
   "metadata": {},
   "outputs": [
    {
     "name": "stdout",
     "output_type": "stream",
     "text": [
      "[(0, 27041), (1, 615)]\n",
      "[(0, 7166), (1, 148)]\n"
     ]
    }
   ],
   "source": [
    "traindata_neigh = pd.read_csv(\"dataset_neighbour.csv\")\n",
    "\n",
    "train_neigh_X = traindata_neigh.drop([\"Is_Depressed\"],axis = 1)\n",
    "train_neigh_y = traindata_neigh[\"Is_Depressed\"]\n",
    "\n",
    "print(sorted(Counter(train_neigh_y).items()))\n",
    "print(sorted(Counter(test_y).items()))"
   ]
  },
  {
   "cell_type": "code",
   "execution_count": 50,
   "metadata": {},
   "outputs": [],
   "source": [
    "classifier_neigh = AdaBoostClassifier(\n",
    "    RandomForestClassifier(n_estimators = 500),\n",
    "    algorithm=\"SAMME\",\n",
    "    n_estimators=1000\n",
    ")\n",
    "\n",
    "#200 1000\n"
   ]
  },
  {
   "cell_type": "code",
   "execution_count": 51,
   "metadata": {},
   "outputs": [
    {
     "data": {
      "text/plain": [
       "AdaBoostClassifier(algorithm='SAMME',\n",
       "                   base_estimator=RandomForestClassifier(bootstrap=True,\n",
       "                                                         class_weight=None,\n",
       "                                                         criterion='gini',\n",
       "                                                         max_depth=None,\n",
       "                                                         max_features='auto',\n",
       "                                                         max_leaf_nodes=None,\n",
       "                                                         min_impurity_decrease=0.0,\n",
       "                                                         min_impurity_split=None,\n",
       "                                                         min_samples_leaf=1,\n",
       "                                                         min_samples_split=2,\n",
       "                                                         min_weight_fraction_leaf=0.0,\n",
       "                                                         n_estimators=500,\n",
       "                                                         n_jobs=None,\n",
       "                                                         oob_score=False,\n",
       "                                                         random_state=None,\n",
       "                                                         verbose=0,\n",
       "                                                         warm_start=False),\n",
       "                   learning_rate=1.0, n_estimators=1000, random_state=None)"
      ]
     },
     "execution_count": 51,
     "metadata": {},
     "output_type": "execute_result"
    }
   ],
   "source": [
    "classifier_neigh.fit(train_neigh_X, train_neigh_y)"
   ]
  },
  {
   "cell_type": "code",
   "execution_count": 53,
   "metadata": {},
   "outputs": [
    {
     "name": "stdout",
     "output_type": "stream",
     "text": [
      "[0.         0.06666667 0.06666667 0.06666667 0.         0.\n",
      " 0.         0.         0.         0.        ]\n"
     ]
    }
   ],
   "source": [
    "scores_neigh = cross_val_score(classifier_neigh, test_X, test_y, cv=10, scoring='recall')\n",
    "\n",
    "print(scores_neigh)"
   ]
  },
  {
   "cell_type": "code",
   "execution_count": 54,
   "metadata": {},
   "outputs": [],
   "source": [
    "predictions_neigh = classifier_neigh.predict(test_X)"
   ]
  },
  {
   "cell_type": "code",
   "execution_count": 55,
   "metadata": {},
   "outputs": [
    {
     "data": {
      "text/plain": [
       "array([[7159,    7],\n",
       "       [ 127,   21]], dtype=int64)"
      ]
     },
     "execution_count": 55,
     "metadata": {},
     "output_type": "execute_result"
    }
   ],
   "source": [
    "confusion_matrix(test_y, predictions_neigh)"
   ]
  },
  {
   "cell_type": "code",
   "execution_count": 56,
   "metadata": {},
   "outputs": [
    {
     "name": "stdout",
     "output_type": "stream",
     "text": [
      "정확도 0.9816789718348373\n",
      "Recall 0.14189189189189189\n",
      "Precision 0.75\n"
     ]
    }
   ],
   "source": [
    "print(\"정확도\",accuracy_score(test_y, predictions_neigh))\n",
    "print(\"Recall\",recall_score(test_y, predictions_neigh))\n",
    "print(\"Precision\",precision_score(test_y,predictions_neigh))"
   ]
  },
  {
   "cell_type": "markdown",
   "metadata": {},
   "source": [
    "# 5. dataset_onesided.csv"
   ]
  },
  {
   "cell_type": "code",
   "execution_count": 57,
   "metadata": {},
   "outputs": [
    {
     "name": "stdout",
     "output_type": "stream",
     "text": [
      "[(0, 28356), (1, 615)]\n",
      "[(0, 7166), (1, 148)]\n"
     ]
    }
   ],
   "source": [
    "traindata_ones = pd.read_csv(\"dataset_onesided.csv\")\n",
    "\n",
    "train_ones_X = traindata_ones.drop([\"Is_Depressed\"],axis = 1)\n",
    "train_ones_y = traindata_ones[\"Is_Depressed\"]\n",
    "\n",
    "print(sorted(Counter(train_ones_y).items()))\n",
    "print(sorted(Counter(test_y).items()))"
   ]
  },
  {
   "cell_type": "code",
   "execution_count": 58,
   "metadata": {},
   "outputs": [],
   "source": [
    "classifier_ones = AdaBoostClassifier(\n",
    "    RandomForestClassifier(n_estimators = 500),\n",
    "    algorithm=\"SAMME\",\n",
    "    n_estimators=1000\n",
    ")"
   ]
  },
  {
   "cell_type": "code",
   "execution_count": 60,
   "metadata": {},
   "outputs": [
    {
     "data": {
      "text/plain": [
       "AdaBoostClassifier(algorithm='SAMME',\n",
       "                   base_estimator=RandomForestClassifier(bootstrap=True,\n",
       "                                                         class_weight=None,\n",
       "                                                         criterion='gini',\n",
       "                                                         max_depth=None,\n",
       "                                                         max_features='auto',\n",
       "                                                         max_leaf_nodes=None,\n",
       "                                                         min_impurity_decrease=0.0,\n",
       "                                                         min_impurity_split=None,\n",
       "                                                         min_samples_leaf=1,\n",
       "                                                         min_samples_split=2,\n",
       "                                                         min_weight_fraction_leaf=0.0,\n",
       "                                                         n_estimators=500,\n",
       "                                                         n_jobs=None,\n",
       "                                                         oob_score=False,\n",
       "                                                         random_state=None,\n",
       "                                                         verbose=0,\n",
       "                                                         warm_start=False),\n",
       "                   learning_rate=1.0, n_estimators=1000, random_state=None)"
      ]
     },
     "execution_count": 60,
     "metadata": {},
     "output_type": "execute_result"
    }
   ],
   "source": [
    "classifier_ones.fit(train_ones_X, train_ones_y)"
   ]
  },
  {
   "cell_type": "code",
   "execution_count": 61,
   "metadata": {},
   "outputs": [
    {
     "name": "stdout",
     "output_type": "stream",
     "text": [
      "[0.         0.06666667 0.06666667 0.06666667 0.         0.\n",
      " 0.         0.         0.         0.07142857]\n"
     ]
    }
   ],
   "source": [
    "scores_ones = cross_val_score(classifier_ones, test_X, test_y, cv=10, scoring='recall')\n",
    "\n",
    "print(scores_ones)"
   ]
  },
  {
   "cell_type": "code",
   "execution_count": 62,
   "metadata": {},
   "outputs": [],
   "source": [
    "predictions_ones = classifier_ones.predict(test_X)"
   ]
  },
  {
   "cell_type": "code",
   "execution_count": 63,
   "metadata": {},
   "outputs": [
    {
     "data": {
      "text/plain": [
       "array([[7161,    5],\n",
       "       [ 130,   18]], dtype=int64)"
      ]
     },
     "execution_count": 63,
     "metadata": {},
     "output_type": "execute_result"
    }
   ],
   "source": [
    "confusion_matrix(test_y, predictions_ones)"
   ]
  },
  {
   "cell_type": "code",
   "execution_count": 64,
   "metadata": {},
   "outputs": [
    {
     "name": "stdout",
     "output_type": "stream",
     "text": [
      "정확도 0.9815422477440525\n",
      "Recall 0.12162162162162163\n",
      "Precision 0.782608695652174\n"
     ]
    }
   ],
   "source": [
    "print(\"정확도\",accuracy_score(test_y, predictions_ones))\n",
    "print(\"Recall\",recall_score(test_y, predictions_ones))\n",
    "print(\"Precision\",precision_score(test_y,predictions_ones))"
   ]
  },
  {
   "cell_type": "markdown",
   "metadata": {},
   "source": [
    "# 6.dataset_tomek.csv"
   ]
  },
  {
   "cell_type": "code",
   "execution_count": 78,
   "metadata": {},
   "outputs": [
    {
     "name": "stdout",
     "output_type": "stream",
     "text": [
      "[(0, 28368), (1, 615)]\n",
      "[(0, 7166), (1, 148)]\n"
     ]
    }
   ],
   "source": [
    "traindata_tomek = pd.read_csv(\"dataset_tomek.csv\")\n",
    "\n",
    "train_tomek_X = traindata_tomek.drop([\"Is_Depressed\"],axis = 1)\n",
    "train_tomek_y = traindata_tomek[\"Is_Depressed\"]\n",
    "\n",
    "print(sorted(Counter(train_tomek_y).items()))\n",
    "print(sorted(Counter(test_y).items()))"
   ]
  },
  {
   "cell_type": "code",
   "execution_count": 79,
   "metadata": {},
   "outputs": [],
   "source": [
    "classifier_tomek = AdaBoostClassifier(\n",
    "    RandomForestClassifier(n_estimators = 500),\n",
    "    algorithm=\"SAMME\",\n",
    "    n_estimators=1000\n",
    ")"
   ]
  },
  {
   "cell_type": "code",
   "execution_count": 81,
   "metadata": {},
   "outputs": [
    {
     "data": {
      "text/plain": [
       "AdaBoostClassifier(algorithm='SAMME',\n",
       "                   base_estimator=RandomForestClassifier(bootstrap=True,\n",
       "                                                         class_weight=None,\n",
       "                                                         criterion='gini',\n",
       "                                                         max_depth=None,\n",
       "                                                         max_features='auto',\n",
       "                                                         max_leaf_nodes=None,\n",
       "                                                         min_impurity_decrease=0.0,\n",
       "                                                         min_impurity_split=None,\n",
       "                                                         min_samples_leaf=1,\n",
       "                                                         min_samples_split=2,\n",
       "                                                         min_weight_fraction_leaf=0.0,\n",
       "                                                         n_estimators=500,\n",
       "                                                         n_jobs=None,\n",
       "                                                         oob_score=False,\n",
       "                                                         random_state=None,\n",
       "                                                         verbose=0,\n",
       "                                                         warm_start=False),\n",
       "                   learning_rate=1.0, n_estimators=1000, random_state=None)"
      ]
     },
     "execution_count": 81,
     "metadata": {},
     "output_type": "execute_result"
    }
   ],
   "source": [
    "classifier_tomek.fit(train_tomek_X, train_tomek_y)"
   ]
  },
  {
   "cell_type": "code",
   "execution_count": 82,
   "metadata": {},
   "outputs": [],
   "source": [
    "scores_tomek = cross_val_score(classifier_tomek, test_X, test_y, cv=10, scoring='recall')"
   ]
  },
  {
   "cell_type": "code",
   "execution_count": 83,
   "metadata": {},
   "outputs": [
    {
     "name": "stdout",
     "output_type": "stream",
     "text": [
      "[0.         0.06666667 0.         0.06666667 0.         0.\n",
      " 0.06666667 0.         0.         0.        ]\n"
     ]
    }
   ],
   "source": [
    "print(scores_tomek)"
   ]
  },
  {
   "cell_type": "code",
   "execution_count": 84,
   "metadata": {},
   "outputs": [
    {
     "name": "stdout",
     "output_type": "stream",
     "text": [
      "[[7160    6]\n",
      " [ 130   18]]\n",
      "정확도 0.9814055236532677\n",
      "Recall 0.12162162162162163\n",
      "Precision 0.75\n"
     ]
    }
   ],
   "source": [
    "predictions_tomek = classifier_tomek.predict(test_X)\n",
    "\n",
    "print(confusion_matrix(test_y, predictions_tomek))\n",
    "\n",
    "print(\"정확도\",accuracy_score(test_y, predictions_tomek))\n",
    "print(\"Recall\",recall_score(test_y, predictions_tomek))\n",
    "print(\"Precision\",precision_score(test_y,predictions_tomek))"
   ]
  },
  {
   "cell_type": "code",
   "execution_count": null,
   "metadata": {},
   "outputs": [],
   "source": []
  }
 ],
 "metadata": {
  "kernelspec": {
   "display_name": "Python 3",
   "language": "python",
   "name": "python3"
  },
  "language_info": {
   "codemirror_mode": {
    "name": "ipython",
    "version": 3
   },
   "file_extension": ".py",
   "mimetype": "text/x-python",
   "name": "python",
   "nbconvert_exporter": "python",
   "pygments_lexer": "ipython3",
   "version": "3.6.4"
  }
 },
 "nbformat": 4,
 "nbformat_minor": 2
}
